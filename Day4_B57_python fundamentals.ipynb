{
 "cells": [
  {
   "cell_type": "code",
   "execution_count": null,
   "id": "340665a3",
   "metadata": {},
   "outputs": [],
   "source": [
    "intrduction to list datatypes :"
   ]
  },
  {
   "cell_type": "code",
   "execution_count": null,
   "id": "6a957d4d",
   "metadata": {},
   "outputs": [],
   "source": [
    "defination : a list is acollection ofm items declared in aparticular order:\n",
    "        classification: it is classified as a mutable datatype\n",
    "        how to declare a list------> []"
   ]
  },
  {
   "cell_type": "code",
   "execution_count": null,
   "id": "89b712f9",
   "metadata": {},
   "outputs": [],
   "source": []
  },
  {
   "cell_type": "code",
   "execution_count": 2,
   "id": "05189513",
   "metadata": {},
   "outputs": [],
   "source": [
    "students = ['naveen','rohit','simran','kavya']  # 0,1,2,3"
   ]
  },
  {
   "cell_type": "code",
   "execution_count": 3,
   "id": "0063f602",
   "metadata": {},
   "outputs": [
    {
     "name": "stdout",
     "output_type": "stream",
     "text": [
      "['naveen', 'rohit', 'simran', 'kavya']\n"
     ]
    }
   ],
   "source": [
    "print(students)"
   ]
  },
  {
   "cell_type": "code",
   "execution_count": null,
   "id": "2ae38d2c",
   "metadata": {},
   "outputs": [],
   "source": []
  },
  {
   "cell_type": "code",
   "execution_count": 5,
   "id": "0c52aed2",
   "metadata": {},
   "outputs": [
    {
     "data": {
      "text/plain": [
       "list"
      ]
     },
     "execution_count": 5,
     "metadata": {},
     "output_type": "execute_result"
    }
   ],
   "source": [
    "type(students)"
   ]
  },
  {
   "cell_type": "code",
   "execution_count": null,
   "id": "88a7ff7c",
   "metadata": {},
   "outputs": [],
   "source": []
  },
  {
   "cell_type": "code",
   "execution_count": null,
   "id": "d964a2fb",
   "metadata": {},
   "outputs": [],
   "source": [
    "introduction to indexing : 0,1,2,3,4,5,6,..........!"
   ]
  },
  {
   "cell_type": "code",
   "execution_count": null,
   "id": "4d07689d",
   "metadata": {},
   "outputs": [],
   "source": []
  },
  {
   "cell_type": "code",
   "execution_count": null,
   "id": "1f78447d",
   "metadata": {},
   "outputs": [],
   "source": [
    "# how to acces the individual elements in a list.......!"
   ]
  },
  {
   "cell_type": "code",
   "execution_count": null,
   "id": "482f08ac",
   "metadata": {},
   "outputs": [],
   "source": [
    "# req : i want to acces naveen and etc from the above.....?"
   ]
  },
  {
   "cell_type": "code",
   "execution_count": 6,
   "id": "74b4d097",
   "metadata": {},
   "outputs": [
    {
     "name": "stdout",
     "output_type": "stream",
     "text": [
      "naveen\n"
     ]
    }
   ],
   "source": [
    "print(students[0])"
   ]
  },
  {
   "cell_type": "code",
   "execution_count": 7,
   "id": "976a9ea0",
   "metadata": {},
   "outputs": [
    {
     "name": "stdout",
     "output_type": "stream",
     "text": [
      "rohit\n"
     ]
    }
   ],
   "source": [
    "print(students[1])"
   ]
  },
  {
   "cell_type": "code",
   "execution_count": 8,
   "id": "5c579fb6",
   "metadata": {},
   "outputs": [
    {
     "name": "stdout",
     "output_type": "stream",
     "text": [
      "simran\n"
     ]
    }
   ],
   "source": [
    "print(students[2])"
   ]
  },
  {
   "cell_type": "code",
   "execution_count": 9,
   "id": "8d467d5e",
   "metadata": {},
   "outputs": [
    {
     "name": "stdout",
     "output_type": "stream",
     "text": [
      "kavya\n"
     ]
    }
   ],
   "source": [
    "print(students[3])"
   ]
  },
  {
   "cell_type": "code",
   "execution_count": null,
   "id": "37995a5b",
   "metadata": {},
   "outputs": [],
   "source": []
  },
  {
   "cell_type": "code",
   "execution_count": null,
   "id": "9d5842c9",
   "metadata": {},
   "outputs": [],
   "source": [
    "1. how to add new elements to the list\n",
    "2. how to modify the elements in the list\n",
    "3. how to delete the element in the list......."
   ]
  },
  {
   "cell_type": "code",
   "execution_count": null,
   "id": "99e06b61",
   "metadata": {},
   "outputs": [],
   "source": []
  },
  {
   "cell_type": "code",
   "execution_count": 10,
   "id": "0d778b8e",
   "metadata": {},
   "outputs": [
    {
     "name": "stdout",
     "output_type": "stream",
     "text": [
      "['naveen', 'rohit', 'simran', 'kavya']\n"
     ]
    }
   ],
   "source": [
    "print(students)"
   ]
  },
  {
   "cell_type": "code",
   "execution_count": null,
   "id": "d210455d",
   "metadata": {},
   "outputs": [],
   "source": [
    "# req: i want to add kalyan in the list "
   ]
  },
  {
   "cell_type": "code",
   "execution_count": 11,
   "id": "ead7d5ef",
   "metadata": {},
   "outputs": [],
   "source": [
    "students.append('kalyan')"
   ]
  },
  {
   "cell_type": "code",
   "execution_count": 12,
   "id": "3f080666",
   "metadata": {},
   "outputs": [
    {
     "name": "stdout",
     "output_type": "stream",
     "text": [
      "['naveen', 'rohit', 'simran', 'kavya', 'kalyan']\n"
     ]
    }
   ],
   "source": [
    "print(students)"
   ]
  },
  {
   "cell_type": "code",
   "execution_count": null,
   "id": "91b2e543",
   "metadata": {},
   "outputs": [],
   "source": [
    "# i want to add yeshwanth to 2nd index"
   ]
  },
  {
   "cell_type": "code",
   "execution_count": 13,
   "id": "f42b023a",
   "metadata": {},
   "outputs": [],
   "source": [
    "students.insert(2,'yeshwant')"
   ]
  },
  {
   "cell_type": "code",
   "execution_count": 14,
   "id": "53785521",
   "metadata": {},
   "outputs": [
    {
     "name": "stdout",
     "output_type": "stream",
     "text": [
      "['naveen', 'rohit', 'yeshwant', 'simran', 'kavya', 'kalyan']\n"
     ]
    }
   ],
   "source": [
    "print(students)"
   ]
  },
  {
   "cell_type": "code",
   "execution_count": null,
   "id": "704da7e6",
   "metadata": {},
   "outputs": [],
   "source": [
    " what is the diff btw append and insert method in alist .........? interview point of view *********"
   ]
  },
  {
   "cell_type": "code",
   "execution_count": null,
   "id": "d01b6118",
   "metadata": {},
   "outputs": [],
   "source": [
    "hown to modify the elements in the list....?"
   ]
  },
  {
   "cell_type": "code",
   "execution_count": 15,
   "id": "df0e6b8c",
   "metadata": {},
   "outputs": [
    {
     "name": "stdout",
     "output_type": "stream",
     "text": [
      "['naveen', 'rohit', 'yeshwant', 'simran', 'kavya', 'kalyan']\n"
     ]
    }
   ],
   "source": [
    "print(students)"
   ]
  },
  {
   "cell_type": "code",
   "execution_count": null,
   "id": "c9bd2081",
   "metadata": {},
   "outputs": [],
   "source": [
    "# req : i want to modify rohit name to kumar.....?"
   ]
  },
  {
   "cell_type": "code",
   "execution_count": 16,
   "id": "62e77d5c",
   "metadata": {},
   "outputs": [],
   "source": [
    "students[1]= \"kumar\""
   ]
  },
  {
   "cell_type": "code",
   "execution_count": 17,
   "id": "d5c49353",
   "metadata": {},
   "outputs": [
    {
     "name": "stdout",
     "output_type": "stream",
     "text": [
      "['naveen', 'kumar', 'yeshwant', 'simran', 'kavya', 'kalyan']\n"
     ]
    }
   ],
   "source": [
    "print(students)"
   ]
  },
  {
   "cell_type": "code",
   "execution_count": null,
   "id": "2a14f45a",
   "metadata": {},
   "outputs": [],
   "source": [
    "# req i want to delete simran name......?"
   ]
  },
  {
   "cell_type": "code",
   "execution_count": 19,
   "id": "d2e9109b",
   "metadata": {},
   "outputs": [],
   "source": [
    "del students[3]"
   ]
  },
  {
   "cell_type": "code",
   "execution_count": 20,
   "id": "f801290d",
   "metadata": {},
   "outputs": [
    {
     "name": "stdout",
     "output_type": "stream",
     "text": [
      "['naveen', 'kumar', 'yeshwant', 'kavya', 'kalyan']\n"
     ]
    }
   ],
   "source": [
    "print(students)"
   ]
  },
  {
   "cell_type": "code",
   "execution_count": null,
   "id": "a5cbc1da",
   "metadata": {},
   "outputs": [],
   "source": []
  },
  {
   "cell_type": "code",
   "execution_count": null,
   "id": "65c726c9",
   "metadata": {},
   "outputs": [],
   "source": []
  },
  {
   "cell_type": "code",
   "execution_count": null,
   "id": "e227ae44",
   "metadata": {},
   "outputs": [],
   "source": []
  },
  {
   "cell_type": "code",
   "execution_count": null,
   "id": "47c8628f",
   "metadata": {},
   "outputs": [],
   "source": []
  },
  {
   "cell_type": "code",
   "execution_count": null,
   "id": "4a96a12d",
   "metadata": {},
   "outputs": [],
   "source": []
  },
  {
   "cell_type": "code",
   "execution_count": null,
   "id": "04554e82",
   "metadata": {},
   "outputs": [],
   "source": []
  },
  {
   "cell_type": "code",
   "execution_count": null,
   "id": "10a0066f",
   "metadata": {},
   "outputs": [],
   "source": []
  },
  {
   "cell_type": "code",
   "execution_count": null,
   "id": "d899f407",
   "metadata": {},
   "outputs": [],
   "source": []
  },
  {
   "cell_type": "code",
   "execution_count": null,
   "id": "a97e6dae",
   "metadata": {},
   "outputs": [],
   "source": []
  },
  {
   "cell_type": "code",
   "execution_count": null,
   "id": "5d069358",
   "metadata": {},
   "outputs": [],
   "source": []
  },
  {
   "cell_type": "code",
   "execution_count": null,
   "id": "9e98df43",
   "metadata": {},
   "outputs": [],
   "source": []
  },
  {
   "cell_type": "code",
   "execution_count": null,
   "id": "45824950",
   "metadata": {},
   "outputs": [],
   "source": []
  },
  {
   "cell_type": "code",
   "execution_count": null,
   "id": "dab196e1",
   "metadata": {},
   "outputs": [],
   "source": []
  }
 ],
 "metadata": {
  "kernelspec": {
   "display_name": "Python 3 (ipykernel)",
   "language": "python",
   "name": "python3"
  },
  "language_info": {
   "codemirror_mode": {
    "name": "ipython",
    "version": 3
   },
   "file_extension": ".py",
   "mimetype": "text/x-python",
   "name": "python",
   "nbconvert_exporter": "python",
   "pygments_lexer": "ipython3",
   "version": "3.9.7"
  }
 },
 "nbformat": 4,
 "nbformat_minor": 5
}
